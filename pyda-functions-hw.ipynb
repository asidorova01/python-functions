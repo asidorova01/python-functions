{
 "cells": [
  {
   "cell_type": "markdown",
   "metadata": {},
   "source": [
    "## Задание 1"
   ]
  },
  {
   "cell_type": "markdown",
   "metadata": {},
   "source": [
    "Дан список вида:"
   ]
  },
  {
   "cell_type": "code",
   "execution_count": 5,
   "metadata": {},
   "outputs": [],
   "source": [
    "data = [\n",
    "    [13, 25, 23, 34],\n",
    "    [45, 32, 44, 47],\n",
    "    [12, 33, 23, 95],\n",
    "    [13, 53, 34, 35]\n",
    "]"
   ]
  },
  {
   "cell_type": "markdown",
   "metadata": {},
   "source": [
    "Напишите функцию, которая возвращает сумму элементов на диагонали. Т. е. 13+32+23+35.  \n",
    "Список может быть любой длины, но всегда является \"квадратным\" (количество элементов во вложенных списках равно их количеству)."
   ]
  },
  {
   "cell_type": "code",
   "execution_count": 12,
   "metadata": {},
   "outputs": [
    {
     "name": "stdout",
     "output_type": "stream",
     "text": [
      "103\n"
     ]
    }
   ],
   "source": [
    "def dia_sum(data_x):\n",
    "    tot_sum = 0\n",
    "    i = 0\n",
    "    for row in data_x:\n",
    "        tot_sum += row[i]\n",
    "        i += 1\n",
    "    return tot_sum\n",
    "        \n",
    "print(dia_sum(data))"
   ]
  },
  {
   "cell_type": "markdown",
   "metadata": {},
   "source": [
    "## Задание 2"
   ]
  },
  {
   "cell_type": "markdown",
   "metadata": {},
   "source": [
    "Напишите функцию, возвращающую сумму первых n чисел Фибоначчи (для этого вам может понадобится ознакомиться с рекурсией)."
   ]
  },
  {
   "cell_type": "code",
   "execution_count": 38,
   "metadata": {},
   "outputs": [],
   "source": [
    "from math import sqrt\n",
    "def F(n):\n",
    "    return ((1+sqrt(5))**n-(1-sqrt(5))**n)/(2**n*sqrt(5))"
   ]
  },
  {
   "cell_type": "markdown",
   "metadata": {},
   "source": [
    "## Задание 3\n"
   ]
  },
  {
   "cell_type": "markdown",
   "metadata": {},
   "source": [
    "Напишите функцию, преобразующую произвольный список вида ['2018-01-01', 'yandex', 'cpc', 100] (он может быть любой длины) в словарь {'2018-01-01': {'yandex': {'cpc': 100}}}"
   ]
  },
  {
   "cell_type": "code",
   "execution_count": 7,
   "metadata": {},
   "outputs": [
    {
     "name": "stdout",
     "output_type": "stream",
     "text": [
      "{'2018-01-01': {'yandex': {'cpc': {100: {'2018-01-01': 100}}}}}\n"
     ]
    }
   ],
   "source": [
    "list_x = ['2018-01-01', 'yandex', 'cpc', 100] \n",
    "\n",
    "\n",
    "def list_in_dict(list_x):\n",
    "    dict_x = 0\n",
    "    i = 0\n",
    "    dict_x = list_x[-1]\n",
    "    while i <= len(list_x):\n",
    "        dict_x = {list_x[-i]:dict_x}\n",
    "        i += 1\n",
    "    return dict_x\n",
    "\n",
    "print (list_in_dict(list_x))\n",
    "\n",
    "\n"
   ]
  },
  {
   "cell_type": "markdown",
   "metadata": {},
   "source": [
    "## Задание 4"
   ]
  },
  {
   "cell_type": "markdown",
   "metadata": {},
   "source": [
    "Вы работаете секретарем и вам постоянно приходят различные документы. Вы должны быть очень внимательны, чтобы не потерять ни один документ. Каталог документов хранится в следующем виде:"
   ]
  },
  {
   "cell_type": "code",
   "execution_count": 28,
   "metadata": {},
   "outputs": [],
   "source": [
    "documents = [\n",
    "    {'type': 'passport', 'number': '2207 876234', 'name': 'Василий Гупкин'},\n",
    "    {'type': 'invoice', 'number': '11-2', 'name': 'Геннадий Покемонов'},\n",
    "    {'type': 'insurance', 'number': '10006', 'name': 'Аристарх Павлов'}\n",
    "]"
   ]
  },
  {
   "cell_type": "markdown",
   "metadata": {},
   "source": [
    "Перечень полок, на которых находятся документы хранится в следующем виде:"
   ]
  },
  {
   "cell_type": "code",
   "execution_count": 29,
   "metadata": {},
   "outputs": [],
   "source": [
    "directories = {\n",
    "    '1': ['2207 876234', '11-2', '5455 028765'],\n",
    "    '2': ['10006', '5400 028765', '5455 002299'],\n",
    "    '3': []\n",
    "}"
   ]
  },
  {
   "cell_type": "markdown",
   "metadata": {},
   "source": [
    "Необходимо реализовать пользовательские команды (внимание! это не название функций, которые должны быть выразительными, а команды, которые вводит пользователь, чтобы получить необходимый результат):\n",
    "  \n",
    "- p – people – команда, которая спросит номер документа и выведет имя человека, которому он принадлежит;  \n",
    "- s – shelf – команда, которая спросит номер документа и выведет номер полки, на которой он находится  \n",
    "Правильно обработайте ситуацию, когда пользователь будет вводить несуществующий документ.\n",
    "- l – list – команда, которая выведет список всех документов в формате   \n",
    "**passport \"2207 876234\" \"Василий Гупкин\"**  \n",
    "- as – add shelf – команда, которая спросит номер новой полки и добавит ее в перечень\n",
    "- d – delete – команда, которая спросит номер документа и удалит его из каталога и из перечня полок. Предусмотрите сценарий, когда пользователь вводит несуществующий документ;  \n",
    "- m – move – команда, которая спросит номер документа и целевую полку и переместит его с текущей полки на целевую. Корректно обработайте кейсы, когда пользователь пытается переместить несуществующий документ или переместить документ на несуществующую полку;  \n",
    "- a – add – команда, которая добавит новый документ в каталог и в перечень полок, спросив его номер, тип, имя владельца и номер полки, на котором он будет храниться."
   ]
  },
  {
   "cell_type": "code",
   "execution_count": 27,
   "metadata": {},
   "outputs": [
    {
     "name": "stdout",
     "output_type": "stream",
     "text": [
      "Команда a\n",
      "Введите номер нового документа: 1212\n",
      "Введите тип нового документа: dsdsd\n",
      "Введите имя владельца нового документа: sdd\n",
      "Введите номер полки: 4\n",
      "Такой полки нет!\n",
      "[{'type': 'passport', 'number': '2207 876234', 'name': 'Василий Гупкин'}, {'type': 'invoice', 'number': '11-2', 'name': 'Геннадий Покемонов'}, {'type': 'insurance', 'number': '10006', 'name': 'Аристарх Павлов'}, {'type': 'pass', 'number': '111', 'name': 'sdsd'}, {'type': 'asas', 'number': '1212', 'name': 'sdsd'}, {'type': 'dsdsd', 'number': '1212', 'name': 'sdd'}]\n",
      "{'1': ['2207 876234', '11-2', '5455 028765'], '2': ['10006', '5400 028765', '5455 002299'], '3': []}\n"
     ]
    }
   ],
   "source": [
    "def p():\n",
    "    mybool = 0\n",
    "    id_number = input('Введите номер документа ')\n",
    "    for document in documents:\n",
    "        if document['number'] == id_number:\n",
    "            mybool = 1\n",
    "            print(document['name'])\n",
    "    if mybool == 0:\n",
    "        print('Такого документа нет!')\n",
    "                \n",
    "def s():\n",
    "    mybool = 0\n",
    "    id_number = input('Введите номер документа ')\n",
    "    for keys, values in directories.items():\n",
    "        if id_number in values:\n",
    "            print('Этот документ лежит на полке ', keys)\n",
    "            mybool = 1\n",
    "    if mybool == 0:\n",
    "        print('Такого документа нет!')\n",
    "\n",
    "        \n",
    "def l():\n",
    "    for document in documents:\n",
    "        print(document['type'], '\"', document['number'], '\"', '\"', document['name'],'\"')\n",
    "        \n",
    "def as_():\n",
    "    mybool = 1\n",
    "    new_shelf = input('Введите номер новой полки ')\n",
    "    if new_shelf in directories:\n",
    "        print('Такая полка уже есть!')\n",
    "        mybool = 0\n",
    "    if mybool == 1:\n",
    "        directories[new_shelf] = []\n",
    "        print(directories)\n",
    "    \n",
    "def d():\n",
    "    mybool = 0\n",
    "    del_doc_num = input('Введите номер документа для удаления ')\n",
    "    for document in documents:\n",
    "        if document['number'] == del_doc_num:\n",
    "            documents.remove(document)\n",
    "#             print(documents)\n",
    "            mybool = 1\n",
    "    for keys, values in directories.items():\n",
    "        if del_doc_num in values:\n",
    "            values.remove(del_doc_num)\n",
    "#             print(directories)    \n",
    "            print('Все удалено!')\n",
    "    if mybool == 0:\n",
    "        print('Такого документа нет!')\n",
    "        \n",
    "def m():\n",
    "    mybool = 0\n",
    "    old_shelf = 0\n",
    "    doc_move = input('Введите номер документа для перемещения ')\n",
    "    target_shelf = input('Введите номер новой полки ')\n",
    "    if target_shelf not in directories.keys():\n",
    "        print('Такой полки нет!')\n",
    "    else:\n",
    "        for keys, values in directories.items():\n",
    "            if doc_move in values:\n",
    "                values.remove(doc_move)\n",
    "                mybool = 1\n",
    "                directories[target_shelf].append(doc_move)\n",
    "        if mybool == 0:\n",
    "            print('Такого документа нет!')\n",
    "        \n",
    "        print(directories)\n",
    "\n",
    "def a():\n",
    "    new_num = input('Введите номер нового документа: ')\n",
    "    new_type = input('Введите тип нового документа: ')\n",
    "    new_person = input('Введите имя владельца нового документа: ')\n",
    "    new_shelf = input('Введите номер полки: ')\n",
    "    new_doc = {}\n",
    "    new_doc['type'] = new_type\n",
    "    new_doc['number'] = new_num\n",
    "    new_doc['name'] = new_person\n",
    "    documents.append(new_doc)\n",
    "    mybool = 0\n",
    "    if new_shelf in directories:\n",
    "        directories[new_shelf].append(new_num)\n",
    "        print('Все добавлено!')\n",
    "        mybool = 1\n",
    "    if mybool == 0:\n",
    "        print('Такой полки нет!')\n",
    "#     print(documents)\n",
    "#     print(directories)\n",
    "   \n",
    "    \n",
    "def main():\n",
    "    command = input('Команда ')\n",
    "    if command == 'p':\n",
    "        p()\n",
    "    elif command == 's':\n",
    "        s()\n",
    "    elif command == 'l':\n",
    "        l()\n",
    "    elif command == 'as':\n",
    "        as_()\n",
    "    elif command == 'd':\n",
    "        d()\n",
    "    elif command == 'm':\n",
    "        m()\n",
    "    elif command == 'a':\n",
    "        a()    \n",
    "    \n",
    "main()"
   ]
  },
  {
   "cell_type": "code",
   "execution_count": null,
   "metadata": {},
   "outputs": [],
   "source": []
  },
  {
   "cell_type": "code",
   "execution_count": null,
   "metadata": {},
   "outputs": [],
   "source": []
  }
 ],
 "metadata": {
  "kernelspec": {
   "display_name": "Python 3",
   "language": "python",
   "name": "python3"
  },
  "language_info": {
   "codemirror_mode": {
    "name": "ipython",
    "version": 3
   },
   "file_extension": ".py",
   "mimetype": "text/x-python",
   "name": "python",
   "nbconvert_exporter": "python",
   "pygments_lexer": "ipython3",
   "version": "3.7.4"
  }
 },
 "nbformat": 4,
 "nbformat_minor": 2
}
