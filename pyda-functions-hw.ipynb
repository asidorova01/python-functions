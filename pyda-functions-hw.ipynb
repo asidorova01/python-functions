{
 "cells": [
  {
   "cell_type": "markdown",
   "metadata": {},
   "source": [
    "## Задание 1"
   ]
  },
  {
   "cell_type": "markdown",
   "metadata": {},
   "source": [
    "Дан список вида:"
   ]
  },
  {
   "cell_type": "code",
   "execution_count": 5,
   "metadata": {},
   "outputs": [],
   "source": [
    "data = [\n",
    "    [13, 25, 23, 34],\n",
    "    [45, 32, 44, 47],\n",
    "    [12, 33, 23, 95],\n",
    "    [13, 53, 34, 35]\n",
    "]"
   ]
  },
  {
   "cell_type": "markdown",
   "metadata": {},
   "source": [
    "Напишите функцию, которая возвращает сумму элементов на диагонали. Т. е. 13+32+23+35.  \n",
    "Список может быть любой длины, но всегда является \"квадратным\" (количество элементов во вложенных списках равно их количеству)."
   ]
  },
  {
   "cell_type": "code",
   "execution_count": 12,
   "metadata": {},
   "outputs": [
    {
     "name": "stdout",
     "output_type": "stream",
     "text": [
      "103\n"
     ]
    }
   ],
   "source": [
    "def dia_sum(data_x):\n",
    "    tot_sum = 0\n",
    "    i = 0\n",
    "    for row in data_x:\n",
    "        tot_sum += row[i]\n",
    "        i += 1\n",
    "    return tot_sum\n",
    "        \n",
    "print(dia_sum(data))"
   ]
  },
  {
   "cell_type": "markdown",
   "metadata": {},
   "source": [
    "## Задание 2"
   ]
  },
  {
   "cell_type": "markdown",
   "metadata": {},
   "source": [
    "Напишите функцию, возвращающую сумму первых n чисел Фибоначчи (для этого вам может понадобится ознакомиться с рекурсией)."
   ]
  },
  {
   "cell_type": "code",
   "execution_count": 38,
   "metadata": {},
   "outputs": [],
   "source": [
    "from math import sqrt\n",
    "def F(n):\n",
    "    return ((1+sqrt(5))**n-(1-sqrt(5))**n)/(2**n*sqrt(5))"
   ]
  },
  {
   "cell_type": "markdown",
   "metadata": {},
   "source": [
    "## Задание 3\n"
   ]
  },
  {
   "cell_type": "markdown",
   "metadata": {},
   "source": [
    "Напишите функцию, преобразующую произвольный список вида ['2018-01-01', 'yandex', 'cpc', 100] (он может быть любой длины) в словарь {'2018-01-01': {'yandex': {'cpc': 100}}}"
   ]
  },
  {
   "cell_type": "code",
   "execution_count": 6,
   "metadata": {},
   "outputs": [
    {
     "ename": "IndexError",
     "evalue": "list index out of range",
     "output_type": "error",
     "traceback": [
      "\u001b[0;31m---------------------------------------------------------------------------\u001b[0m",
      "\u001b[0;31mIndexError\u001b[0m                                Traceback (most recent call last)",
      "\u001b[0;32m<ipython-input-6-60a64c04c623>\u001b[0m in \u001b[0;36m<module>\u001b[0;34m\u001b[0m\n\u001b[1;32m     11\u001b[0m     \u001b[0mnew_dict\u001b[0m\u001b[0;34m[\u001b[0m\u001b[0mdata\u001b[0m\u001b[0;34m[\u001b[0m\u001b[0;34m-\u001b[0m\u001b[0;34m(\u001b[0m\u001b[0mi\u001b[0m\u001b[0;34m+\u001b[0m\u001b[0;36m1\u001b[0m\u001b[0;34m)\u001b[0m\u001b[0;34m]\u001b[0m\u001b[0;34m]\u001b[0m \u001b[0;34m=\u001b[0m \u001b[0mdata\u001b[0m\u001b[0;34m[\u001b[0m\u001b[0;34m-\u001b[0m\u001b[0mi\u001b[0m\u001b[0;34m]\u001b[0m\u001b[0;34m\u001b[0m\u001b[0;34m\u001b[0m\u001b[0m\n\u001b[1;32m     12\u001b[0m     \u001b[0mnew_dict\u001b[0m \u001b[0;34m=\u001b[0m \u001b[0mx\u001b[0m\u001b[0;34m\u001b[0m\u001b[0;34m\u001b[0m\u001b[0m\n\u001b[0;32m---> 13\u001b[0;31m     \u001b[0mnew_dict\u001b[0m\u001b[0;34m[\u001b[0m\u001b[0mdata\u001b[0m\u001b[0;34m[\u001b[0m\u001b[0;34m-\u001b[0m\u001b[0;34m(\u001b[0m\u001b[0mi\u001b[0m\u001b[0;34m+\u001b[0m\u001b[0;36m2\u001b[0m\u001b[0;34m)\u001b[0m\u001b[0;34m]\u001b[0m\u001b[0;34m]\u001b[0m \u001b[0;34m=\u001b[0m \u001b[0mx\u001b[0m\u001b[0;34m\u001b[0m\u001b[0;34m\u001b[0m\u001b[0m\n\u001b[0m\u001b[1;32m     14\u001b[0m     \u001b[0mi\u001b[0m \u001b[0;34m+=\u001b[0m \u001b[0;36m1\u001b[0m\u001b[0;34m\u001b[0m\u001b[0;34m\u001b[0m\u001b[0m\n\u001b[1;32m     15\u001b[0m \u001b[0;34m\u001b[0m\u001b[0m\n",
      "\u001b[0;31mIndexError\u001b[0m: list index out of range"
     ]
    }
   ],
   "source": [
    "# Что-то никак не выходит....\n",
    "\n",
    "\n",
    "\n",
    "# data = ['2018-01-01', 'yandex', 'cpc', 100]\n",
    "# n = len(data)\n",
    "\n",
    "# new_dict = {}\n",
    "# x = {}\n",
    "\n",
    "# i = 1\n",
    "\n",
    "# while i < n:\n",
    "#     new_dict[data[-(i+1)]] = data[-i]\n",
    "#     new_dict = x\n",
    "#     new_dict[data[-(i+2)]] = x\n",
    "#     i += 1\n",
    "\n",
    "\n"
   ]
  },
  {
   "cell_type": "markdown",
   "metadata": {},
   "source": [
    "## Задание 4"
   ]
  },
  {
   "cell_type": "markdown",
   "metadata": {},
   "source": [
    "Вы работаете секретарем и вам постоянно приходят различные документы. Вы должны быть очень внимательны, чтобы не потерять ни один документ. Каталог документов хранится в следующем виде:"
   ]
  },
  {
   "cell_type": "code",
   "execution_count": 76,
   "metadata": {},
   "outputs": [],
   "source": [
    "documents = [\n",
    "    {'type': 'passport', 'number': '2207 876234', 'name': 'Василий Гупкин'},\n",
    "    {'type': 'invoice', 'number': '11-2', 'name': 'Геннадий Покемонов'},\n",
    "    {'type': 'insurance', 'number': '10006', 'name': 'Аристарх Павлов'}\n",
    "]"
   ]
  },
  {
   "cell_type": "markdown",
   "metadata": {},
   "source": [
    "Перечень полок, на которых находятся документы хранится в следующем виде:"
   ]
  },
  {
   "cell_type": "code",
   "execution_count": 77,
   "metadata": {},
   "outputs": [],
   "source": [
    "directories = {\n",
    "    '1': ['2207 876234', '11-2', '5455 028765'],\n",
    "    '2': ['10006', '5400 028765', '5455 002299'],\n",
    "    '3': []\n",
    "}"
   ]
  },
  {
   "cell_type": "markdown",
   "metadata": {},
   "source": [
    "Необходимо реализовать пользовательские команды (внимание! это не название функций, которые должны быть выразительными, а команды, которые вводит пользователь, чтобы получить необходимый результат):\n",
    "  \n",
    "- p – people – команда, которая спросит номер документа и выведет имя человека, которому он принадлежит;  \n",
    "- s – shelf – команда, которая спросит номер документа и выведет номер полки, на которой он находится  \n",
    "Правильно обработайте ситуацию, когда пользователь будет вводить несуществующий документ.\n",
    "- l – list – команда, которая выведет список всех документов в формате   \n",
    "**passport \"2207 876234\" \"Василий Гупкин\"**  \n",
    "- as – add shelf – команда, которая спросит номер новой полки и добавит ее в перечень\n",
    "- d – delete – команда, которая спросит номер документа и удалит его из каталога и из перечня полок. Предусмотрите сценарий, когда пользователь вводит несуществующий документ;  \n",
    "- m – move – команда, которая спросит номер документа и целевую полку и переместит его с текущей полки на целевую. Корректно обработайте кейсы, когда пользователь пытается переместить несуществующий документ или переместить документ на несуществующую полку;  \n",
    "- a – add – команда, которая добавит новый документ в каталог и в перечень полок, спросив его номер, тип, имя владельца и номер полки, на котором он будет храниться."
   ]
  },
  {
   "cell_type": "code",
   "execution_count": 81,
   "metadata": {},
   "outputs": [
    {
     "name": "stdout",
     "output_type": "stream",
     "text": [
      "Команда m\n",
      "Введите номер документа для перемещения 10006\n",
      "Введите номер новой полки 4\n",
      "Такой полки нет!\n",
      "{'1': ['2207 876234', '11-2', '5455 028765'], '2': ['5400 028765', '5455 002299'], '3': []}\n"
     ]
    }
   ],
   "source": [
    "command = input('Команда ')\n",
    "\n",
    "if command == 'p':\n",
    "    id_number = input('Введите номер документа ')\n",
    "    for document in documents:\n",
    "        if document['number'] == id_number:\n",
    "                print(document['name'])\n",
    "                \n",
    "elif command == 's':\n",
    "    bool = 0\n",
    "    id_number = input('Введите номер документа ')\n",
    "    for keys, values in directories.items():\n",
    "        if id_number in values:\n",
    "            print('Этот документ лежит на полке ', keys)\n",
    "            bool = 1\n",
    "    if bool == 0:\n",
    "        print('Такого документа нет!')\n",
    "\n",
    "        \n",
    "elif command == 'l':\n",
    "    for document in documents:\n",
    "        print(document['type'], '\"', document['number'], '\"', '\"', document['name'],'\"')\n",
    "        \n",
    "elif command == 'as':\n",
    "    new_shelf = input('Введите номер новой полки ')\n",
    "    directories[new_shelf] = []\n",
    "    print(directories)\n",
    "    \n",
    "elif command == 'd':\n",
    "    bool = 0\n",
    "    del_doc_num = input('Введите номер документа для удаления ')\n",
    "    for document in documents:\n",
    "        if document['number'] == del_doc_num:\n",
    "            documents.remove(document)\n",
    "#             print(documents)\n",
    "            bool = 1\n",
    "    for keys, values in directories.items():\n",
    "        if del_doc_num in values:\n",
    "            values.remove(del_doc_num)\n",
    "#             print(directories)    \n",
    "            print('Все удалено!')\n",
    "    if bool == 0:\n",
    "        print('Такого документа нет!')\n",
    "        \n",
    "elif command == 'm':\n",
    "    bool = 0\n",
    "    old_shelf = 0\n",
    "    doc_move = input('Введите номер документа для перемещения ')\n",
    "    target_shelf = input('Введите номер новой полки ')\n",
    "    if target_shelf not in directories.keys():\n",
    "        print('Такой полки нет!')\n",
    "    else:\n",
    "        for keys, values in directories.items():\n",
    "            if doc_move in values:\n",
    "                values.remove(doc_move)\n",
    "                bool = 1\n",
    "        if bool == 0:\n",
    "            print('Такого документа нет!')\n",
    "        directories[target_shelf].append(doc_move)\n",
    "        print(directories)\n",
    "\n",
    "elif command == 'a':\n",
    "    new_num = input('Введите номер нового документа: ')\n",
    "    new_type = input('Введите тип нового документа: ')\n",
    "    new_person = input('Введите имя владельца нового документа: ')\n",
    "    new_shelf = input('Введите номер полки: ')\n",
    "    new_doc = {}\n",
    "    new_doc['type'] = new_type\n",
    "    new_doc['number'] = new_num\n",
    "    new_doc['name'] = new_person\n",
    "    documents.append(new_doc)\n",
    "    directories[new_shelf].append(new_num)\n",
    "    print('Все добавлено!')\n",
    "#     print(documents)\n",
    "#     print(directories)\n",
    "    \n",
    "    \n",
    "    \n",
    "    \n",
    "    "
   ]
  },
  {
   "cell_type": "code",
   "execution_count": null,
   "metadata": {},
   "outputs": [],
   "source": []
  }
 ],
 "metadata": {
  "kernelspec": {
   "display_name": "Python 3",
   "language": "python",
   "name": "python3"
  },
  "language_info": {
   "codemirror_mode": {
    "name": "ipython",
    "version": 3
   },
   "file_extension": ".py",
   "mimetype": "text/x-python",
   "name": "python",
   "nbconvert_exporter": "python",
   "pygments_lexer": "ipython3",
   "version": "3.7.4"
  }
 },
 "nbformat": 4,
 "nbformat_minor": 2
}
